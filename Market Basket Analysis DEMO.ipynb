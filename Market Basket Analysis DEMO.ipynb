{
 "cells": [
  {
   "cell_type": "markdown",
   "metadata": {
    "ExecuteTime": {
     "end_time": "2019-07-22T17:50:10.190671Z",
     "start_time": "2019-07-22T17:50:06.377279Z"
    }
   },
   "source": [
    "### Basic Introduction"
   ]
  },
  {
   "cell_type": "markdown",
   "metadata": {},
   "source": [
    "Market Basket Analysis is one of the key techniques used by large retailers to uncover associations between items. It works by looking for combinations of items that occur together frequently in transactions. To put it another way, it allows retailers to identify relationships between the items that people buy.\n",
    "\n",
    "Association Rules are widely used to analyze retail basket or transaction data, and are intended to identify strong rules discovered in transaction data using measures of interestingness, based on the concept of strong rules."
   ]
  },
  {
   "cell_type": "markdown",
   "metadata": {},
   "source": [
    "#### An example of Association Rules\n",
    "\n",
    "- Assume there are 100 customers\n",
    "- 10 of them bought milk, 8 bought butter and 6 bought both of them.\n",
    "- bought milk => bought butter\n",
    "- **Support** = P(Milk & Butter) = 6/100 = 0.06\n",
    "- **Confidence** = support/P(Butter) = 0.06/0.08 = 0.75\n",
    "- **Lift** = confidence/P(Milk) = 0.75/0.10 = 7.5"
   ]
  },
  {
   "cell_type": "markdown",
   "metadata": {},
   "source": [
    "##### Note: Here's only the DEMO"
   ]
  },
  {
   "cell_type": "code",
   "execution_count": null,
   "metadata": {},
   "outputs": [],
   "source": [
    "import numpy as np\n",
    "import pandas as pd\n",
    "from collections import defaultdict, Counter\n",
    "from itertools import combinations\n",
    "from sqlalchemy import create_engine\n",
    "from sqlalchemy import create_engine, MetaData, Table, select, engine\n",
    "import pandas.io.sql\n",
    "import pyodbc\n",
    "import time\n",
    "\n",
    "from mlxtend.frequent_patterns import apriori #market basket analysis module\n",
    "from mlxtend.frequent_patterns import association_rules"
   ]
  },
  {
   "cell_type": "code",
   "execution_count": 12,
   "metadata": {
    "ExecuteTime": {
     "end_time": "2019-07-22T18:14:20.082887Z",
     "start_time": "2019-07-22T18:14:20.067928Z"
    }
   },
   "outputs": [],
   "source": [
    "# Get data we want by date\n",
    "def getDataFromSQL(start_time, end_time):\n",
    "    sql = '''select ***demo*** where YearMonthDay between {} and {}  ***demo***'''.format(start_time,end_time)\n",
    "    \n",
    "    engine = create_engine('mssql+pymssql://***demo***')\n",
    "    return pd.read_sql(sql, engine)\n",
    "    \n",
    "# For one-hot encoding\n",
    "def encode_units(x):\n",
    "    if x <= 0:\n",
    "        return 0\n",
    "    if x >= 1:\n",
    "        return 1\n",
    "\n",
    "# min_support for products we want above this support\n",
    "# metric: with min_threshold showing us the combinations we want\n",
    "def marketbasket(min_support, metric, min_threshold, start_time, end_time):\n",
    "    df = getDataFromSQL(start_time, end_time)\n",
    "\n",
    "    df['ProdName'] = df['ProdName'].str.strip()\n",
    "    df.dropna(axis=0, subset=['InvoiceID'], inplace=True)\n",
    "    df['InvoiceID'] = df['InvoiceID'].astype('str')\n",
    "    \n",
    "    # One-hot encoding to a new data frame that contains all products as columns\n",
    "    basket = (df.groupby(['ProdSpecies','InvoiceID', 'ProdName'])['Units']\n",
    "              .count().unstack().reset_index().fillna(0)\n",
    "              .set_index('InvoiceID'))\n",
    "\n",
    "    basket = basket.drop(columns=['ProdSpecies']) # we don't need to use it\n",
    "    basket_sets = basket.applymap(encode_units) # for each invoice, set including products as 1, others as 0.\n",
    "\n",
    "\n",
    "    frequent_itemsets = apriori(basket_sets, min_support= min_support, use_colnames=True) # Apriori module\n",
    "    frequent_itemsets['length'] = frequent_itemsets['itemsets'].apply(lambda x: len(x)) # Add new columns marking as number of aligning products for each invoice\n",
    "    \n",
    "    rules = association_rules(frequent_itemsets, metric = metric, min_threshold = min_threshold) # Customize our result, min_threshold is for the metric we define\n",
    "    rules.columns = ['Prodlist','Product','Prodlist support','Product Support','Support','Confidence','Lift','Leverage','Conviction']\n",
    "    result = rules[['Product','Prodlist','Confidence','Support','Lift']] # columns we want \n",
    "    \n",
    "    return result"
   ]
  },
  {
   "cell_type": "code",
   "execution_count": 13,
   "metadata": {
    "ExecuteTime": {
     "end_time": "2019-07-22T18:23:29.717068Z",
     "start_time": "2019-07-22T18:14:21.009718Z"
    }
   },
   "outputs": [],
   "source": [
    "df = marketbasket(min_support = 0.01, \n",
    "                  metric = 'confidence',\n",
    "                  min_threshold = 0.05, \n",
    "                  start_time = '20190401', \n",
    "                  end_time = '20190401')"
   ]
  },
  {
   "cell_type": "code",
   "execution_count": 18,
   "metadata": {
    "ExecuteTime": {
     "end_time": "2019-07-22T18:24:06.937268Z",
     "start_time": "2019-07-22T18:24:06.917320Z"
    }
   },
   "outputs": [
    {
     "data": {
      "text/html": [
       "<div>\n",
       "<style scoped>\n",
       "    .dataframe tbody tr th:only-of-type {\n",
       "        vertical-align: middle;\n",
       "    }\n",
       "\n",
       "    .dataframe tbody tr th {\n",
       "        vertical-align: top;\n",
       "    }\n",
       "\n",
       "    .dataframe thead th {\n",
       "        text-align: right;\n",
       "    }\n",
       "</style>\n",
       "<table border=\"1\" class=\"dataframe\">\n",
       "  <thead>\n",
       "    <tr style=\"text-align: right;\">\n",
       "      <th></th>\n",
       "      <th>Product</th>\n",
       "      <th>Prodlist</th>\n",
       "      <th>Confidence</th>\n",
       "      <th>Support</th>\n",
       "      <th>Lift</th>\n",
       "    </tr>\n",
       "  </thead>\n",
       "  <tbody>\n",
       "    <tr>\n",
       "      <th>49</th>\n",
       "      <td>(Apoquel)</td>\n",
       "      <td>(Cerenia Oral, Cytopoint)</td>\n",
       "      <td>0.541333</td>\n",
       "      <td>0.027444</td>\n",
       "      <td>1.793212</td>\n",
       "    </tr>\n",
       "    <tr>\n",
       "      <th>1</th>\n",
       "      <td>(4 Way Lepto)</td>\n",
       "      <td>(Canine Bios Service Items)</td>\n",
       "      <td>0.508772</td>\n",
       "      <td>0.015682</td>\n",
       "      <td>11.985306</td>\n",
       "    </tr>\n",
       "    <tr>\n",
       "      <th>38</th>\n",
       "      <td>(Apoquel)</td>\n",
       "      <td>(Convenia, Cerenia Inj Emesis)</td>\n",
       "      <td>0.485207</td>\n",
       "      <td>0.011086</td>\n",
       "      <td>1.607289</td>\n",
       "    </tr>\n",
       "    <tr>\n",
       "      <th>44</th>\n",
       "      <td>(Apoquel)</td>\n",
       "      <td>(Cytopoint, Cerenia Inj Emesis)</td>\n",
       "      <td>0.472622</td>\n",
       "      <td>0.022171</td>\n",
       "      <td>1.565602</td>\n",
       "    </tr>\n",
       "    <tr>\n",
       "      <th>54</th>\n",
       "      <td>(Cytopoint)</td>\n",
       "      <td>(Convenia, Apoquel)</td>\n",
       "      <td>0.462617</td>\n",
       "      <td>0.013384</td>\n",
       "      <td>1.189839</td>\n",
       "    </tr>\n",
       "    <tr>\n",
       "      <th>4</th>\n",
       "      <td>(4 Way Lepto)</td>\n",
       "      <td>(High Titer Parvo)</td>\n",
       "      <td>0.460630</td>\n",
       "      <td>0.015817</td>\n",
       "      <td>10.851209</td>\n",
       "    </tr>\n",
       "    <tr>\n",
       "      <th>48</th>\n",
       "      <td>(Cytopoint)</td>\n",
       "      <td>(Cerenia Oral, Apoquel)</td>\n",
       "      <td>0.460317</td>\n",
       "      <td>0.027444</td>\n",
       "      <td>1.183925</td>\n",
       "    </tr>\n",
       "    <tr>\n",
       "      <th>16</th>\n",
       "      <td>(Canine Bios Service Items)</td>\n",
       "      <td>(Defensor 3)</td>\n",
       "      <td>0.442623</td>\n",
       "      <td>0.010950</td>\n",
       "      <td>14.360009</td>\n",
       "    </tr>\n",
       "    <tr>\n",
       "      <th>43</th>\n",
       "      <td>(Cytopoint)</td>\n",
       "      <td>(Apoquel, Cerenia Inj Emesis)</td>\n",
       "      <td>0.436170</td>\n",
       "      <td>0.022171</td>\n",
       "      <td>1.121819</td>\n",
       "    </tr>\n",
       "    <tr>\n",
       "      <th>32</th>\n",
       "      <td>(Apoquel)</td>\n",
       "      <td>(Cerenia Oral, Cerenia Inj Emesis)</td>\n",
       "      <td>0.407295</td>\n",
       "      <td>0.018115</td>\n",
       "      <td>1.349198</td>\n",
       "    </tr>\n",
       "  </tbody>\n",
       "</table>\n",
       "</div>"
      ],
      "text/plain": [
       "                        Product                            Prodlist  \\\n",
       "49                    (Apoquel)           (Cerenia Oral, Cytopoint)   \n",
       "1                 (4 Way Lepto)         (Canine Bios Service Items)   \n",
       "38                    (Apoquel)      (Convenia, Cerenia Inj Emesis)   \n",
       "44                    (Apoquel)     (Cytopoint, Cerenia Inj Emesis)   \n",
       "54                  (Cytopoint)                 (Convenia, Apoquel)   \n",
       "4                 (4 Way Lepto)                  (High Titer Parvo)   \n",
       "48                  (Cytopoint)             (Cerenia Oral, Apoquel)   \n",
       "16  (Canine Bios Service Items)                        (Defensor 3)   \n",
       "43                  (Cytopoint)       (Apoquel, Cerenia Inj Emesis)   \n",
       "32                    (Apoquel)  (Cerenia Oral, Cerenia Inj Emesis)   \n",
       "\n",
       "    Confidence   Support       Lift  \n",
       "49    0.541333  0.027444   1.793212  \n",
       "1     0.508772  0.015682  11.985306  \n",
       "38    0.485207  0.011086   1.607289  \n",
       "44    0.472622  0.022171   1.565602  \n",
       "54    0.462617  0.013384   1.189839  \n",
       "4     0.460630  0.015817  10.851209  \n",
       "48    0.460317  0.027444   1.183925  \n",
       "16    0.442623  0.010950  14.360009  \n",
       "43    0.436170  0.022171   1.121819  \n",
       "32    0.407295  0.018115   1.349198  "
      ]
     },
     "execution_count": 18,
     "metadata": {},
     "output_type": "execute_result"
    }
   ],
   "source": [
    "df.sort_values(by = 'Confidence', ascending= False).head(10)"
   ]
  }
 ],
 "metadata": {
  "kernelspec": {
   "display_name": "Python 3",
   "language": "python",
   "name": "python3"
  },
  "language_info": {
   "codemirror_mode": {
    "name": "ipython",
    "version": 3
   },
   "file_extension": ".py",
   "mimetype": "text/x-python",
   "name": "python",
   "nbconvert_exporter": "python",
   "pygments_lexer": "ipython3",
   "version": "3.7.3"
  },
  "toc": {
   "base_numbering": 1,
   "nav_menu": {},
   "number_sections": false,
   "sideBar": true,
   "skip_h1_title": false,
   "title_cell": "Table of Contents",
   "title_sidebar": "Contents",
   "toc_cell": false,
   "toc_position": {},
   "toc_section_display": true,
   "toc_window_display": false
  }
 },
 "nbformat": 4,
 "nbformat_minor": 2
}
